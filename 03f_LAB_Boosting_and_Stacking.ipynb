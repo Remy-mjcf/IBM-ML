{
 "cells": [
  {
   "cell_type": "markdown",
   "metadata": {},
   "source": [
    "<p style=\"text-align:center\">\n",
    "    <a href=\"https://skills.network\" target=\"_blank\">\n",
    "    <img src=\"https://cf-courses-data.s3.us.cloud-object-storage.appdomain.cloud/assets/logos/SN_web_lightmode.png\" width=\"200\" alt=\"Skills Network Logo\">\n",
    "    </a>\n",
    "</p>\n",
    "\n",
    "# Machine Learning Foundation\n",
    "\n",
    "## Course 3, Part f: Boosting and Stacking LAB\n",
    "\n",
    "Estimated time needed: **45** minutes\n",
    "\n",
    "## Objectives\n",
    "\n",
    "After completing this demo you will be able to:\n",
    "\n",
    "*   Understand how Gradient Boosting helps reduce error\n",
    "*   Identify the benefits of using AdaBoost\n",
    "*   Interpret the benefits of stacking models and comparing their results to boosted models\n"
   ]
  },
  {
   "cell_type": "markdown",
   "metadata": {},
   "source": [
    "<h1>Table of contents</h1>\n",
    "\n",
    "<div class=\"alert alert-block alert-info\" style=\"margin-top: 20px\">\n",
    "    <ol>\n",
    "        <li><a href=\"https://#Q1\">Question 1</a></li>\n",
    "        <li><a href=\"https://#Q2\">Question 2</a></li>\n",
    "        <li><a href=\"https://#Q3\">Question 3</a></li>\n",
    "        <li><a href=\"https://#Q4\">Question 4</a></li>\n",
    "        <li><a href=\"https://#Q5\">Question 5</a></li>\n",
    "        <li><a href=\"https://#Q6\">Question 6</a></li>\n",
    "</div>\n",
    "<br>\n",
    "<hr>\n"
   ]
  },
  {
   "cell_type": "markdown",
   "metadata": {},
   "source": [
    "## Introduction\n",
    "\n",
    "We will be using the [Human Activity Recognition with Smartphones](https://archive.ics.uci.edu/ml/datasets/Human+Activity+Recognition+Using+Smartphones?utm_medium=Exinfluencer&utm_source=Exinfluencer&utm_content=000026UJ&utm_term=10006555&utm_id=NA-SkillsNetwork-Channel-SkillsNetworkCoursesIBMML241ENSkillsNetwork31576874-2022-01-01) database, which was built from the recordings of study participants performing activities of daily living (ADL) while carrying a smartphone with an embedded inertial sensors. The objective is to classify activities into one of the six activities (walking, walking upstairs, walking downstairs, sitting, standing, and laying) performed.\n",
    "\n",
    "For each record in the dataset it is provided:\n",
    "\n",
    "*   Triaxial acceleration from the accelerometer (total acceleration) and the estimated body acceleration.\n",
    "*   Triaxial angular velocity from the gyroscope.\n",
    "*   A 561-feature vector with time and frequency domain variables.\n",
    "*   Its activity label.\n",
    "\n",
    "More information about the features is available on the website shown above.\n"
   ]
  },
  {
   "cell_type": "code",
   "execution_count": 2,
   "metadata": {
    "tags": []
   },
   "outputs": [
    {
     "name": "stdout",
     "output_type": "stream",
     "text": [
      "Requirement already satisfied: scikit-learn in /home/jupyterlab/conda/envs/python/lib/python3.7/site-packages (1.0.2)\n",
      "Requirement already satisfied: numpy>=1.14.6 in /home/jupyterlab/conda/envs/python/lib/python3.7/site-packages (from scikit-learn) (1.21.6)\n",
      "Requirement already satisfied: scipy>=1.1.0 in /home/jupyterlab/conda/envs/python/lib/python3.7/site-packages (from scikit-learn) (1.7.3)\n",
      "Requirement already satisfied: joblib>=0.11 in /home/jupyterlab/conda/envs/python/lib/python3.7/site-packages (from scikit-learn) (1.3.2)\n",
      "Requirement already satisfied: threadpoolctl>=2.0.0 in /home/jupyterlab/conda/envs/python/lib/python3.7/site-packages (from scikit-learn) (3.1.0)\n",
      "Requirement already satisfied: numpy in /home/jupyterlab/conda/envs/python/lib/python3.7/site-packages (1.21.6)\n"
     ]
    }
   ],
   "source": [
    "!pip install -U scikit-learn\n",
    "!pip install -U numpy"
   ]
  },
  {
   "cell_type": "code",
   "execution_count": 3,
   "metadata": {
    "tags": []
   },
   "outputs": [],
   "source": [
    "def warn(*args, **kwargs):\n",
    "    pass\n",
    "import warnings\n",
    "warnings.warn = warn\n",
    "\n",
    "import seaborn as sns, pandas as pd, numpy as np"
   ]
  },
  {
   "cell_type": "markdown",
   "metadata": {},
   "source": [
    "<h2 id=\"Q1\">Question 1</h2>\n",
    "\n",
    "*   Import the data from the file `Human_Activity_Recognition_Using_Smartphones_Data.csv` and examine the shape and data types. For the data types, there will be too many to list each column separately. Rather, aggregate the types by count.\n",
    "*   Determine if the float columns need to be scaled.\n"
   ]
  },
  {
   "cell_type": "code",
   "execution_count": 4,
   "metadata": {
    "tags": []
   },
   "outputs": [],
   "source": [
    "### BEGIN SOLUTION\n",
    "data = pd.read_csv(\"https://cf-courses-data.s3.us.cloud-object-storage.appdomain.cloud/IBM-ML241EN-SkillsNetwork/labs/datasets/Human_Activity_Recognition_Using_Smartphones_Data.csv\", sep=',')"
   ]
  },
  {
   "cell_type": "markdown",
   "metadata": {},
   "source": [
    "The data has quite a few predictor columns.\n"
   ]
  },
  {
   "cell_type": "code",
   "execution_count": 5,
   "metadata": {
    "tags": []
   },
   "outputs": [
    {
     "data": {
      "text/plain": [
       "(10299, 562)"
      ]
     },
     "execution_count": 5,
     "metadata": {},
     "output_type": "execute_result"
    }
   ],
   "source": [
    "data.shape"
   ]
  },
  {
   "cell_type": "markdown",
   "metadata": {},
   "source": [
    "And they're all float values. The only non-float is the categories column, which is being predicted.\n"
   ]
  },
  {
   "cell_type": "code",
   "execution_count": 6,
   "metadata": {
    "tags": []
   },
   "outputs": [
    {
     "data": {
      "text/plain": [
       "float64    561\n",
       "object       1\n",
       "dtype: int64"
      ]
     },
     "execution_count": 6,
     "metadata": {},
     "output_type": "execute_result"
    }
   ],
   "source": [
    "data.dtypes.value_counts()"
   ]
  },
  {
   "cell_type": "markdown",
   "metadata": {},
   "source": [
    "The minimum and maximum value for the float columns is -1.0 and 1.0, respectively. However, scaling is never required for tree-based methods.\n"
   ]
  },
  {
   "cell_type": "code",
   "execution_count": 7,
   "metadata": {
    "tags": []
   },
   "outputs": [
    {
     "name": "stdout",
     "output_type": "stream",
     "text": [
      "True\n",
      "True\n"
     ]
    }
   ],
   "source": [
    "# Mask to select float columns\n",
    "float_columns = (data.dtypes == np.float)\n",
    "\n",
    "# Verify that the maximum of all float columns is 1.0\n",
    "print( (data.loc[:,float_columns].max()==1.0).all() )\n",
    "\n",
    "# Verify that the minimum of all float columns is -1.0\n",
    "print( (data.loc[:,float_columns].min()==-1.0).all() )\n",
    "### END SOLUTION"
   ]
  },
  {
   "cell_type": "markdown",
   "metadata": {},
   "source": [
    "<h2 id=\"Q2\">Question 2</h2>\n",
    "\n",
    "*   Integer encode the activities.\n",
    "*   Split the data into train and test data sets. Decide if the data will be stratified or not during the train/test split.\n"
   ]
  },
  {
   "cell_type": "code",
   "execution_count": 8,
   "metadata": {
    "tags": []
   },
   "outputs": [
    {
     "data": {
      "text/plain": [
       "array(['LAYING', 'SITTING', 'STANDING', 'WALKING', 'WALKING_DOWNSTAIRS',\n",
       "       'WALKING_UPSTAIRS'], dtype=object)"
      ]
     },
     "execution_count": 8,
     "metadata": {},
     "output_type": "execute_result"
    }
   ],
   "source": [
    "### BEGIN SOLUTION\n",
    "from sklearn.preprocessing import LabelEncoder\n",
    "\n",
    "le = LabelEncoder()\n",
    "\n",
    "data['Activity'] = le.fit_transform(data['Activity'])\n",
    "\n",
    "le.classes_"
   ]
  },
  {
   "cell_type": "code",
   "execution_count": 9,
   "metadata": {
    "tags": []
   },
   "outputs": [
    {
     "data": {
      "text/plain": [
       "array([2, 1, 0, 3, 4, 5])"
      ]
     },
     "execution_count": 9,
     "metadata": {},
     "output_type": "execute_result"
    }
   ],
   "source": [
    "data.Activity.unique()"
   ]
  },
  {
   "cell_type": "code",
   "execution_count": 10,
   "metadata": {
    "tags": []
   },
   "outputs": [
    {
     "data": {
      "text/html": [
       "<div>\n",
       "<style scoped>\n",
       "    .dataframe tbody tr th:only-of-type {\n",
       "        vertical-align: middle;\n",
       "    }\n",
       "\n",
       "    .dataframe tbody tr th {\n",
       "        vertical-align: top;\n",
       "    }\n",
       "\n",
       "    .dataframe thead th {\n",
       "        text-align: right;\n",
       "    }\n",
       "</style>\n",
       "<table border=\"1\" class=\"dataframe\">\n",
       "  <thead>\n",
       "    <tr style=\"text-align: right;\">\n",
       "      <th></th>\n",
       "      <th>tBodyAcc-mean()-X</th>\n",
       "      <th>tBodyAcc-mean()-Y</th>\n",
       "      <th>tBodyAcc-mean()-Z</th>\n",
       "      <th>tBodyAcc-std()-X</th>\n",
       "      <th>tBodyAcc-std()-Y</th>\n",
       "      <th>tBodyAcc-std()-Z</th>\n",
       "      <th>tBodyAcc-mad()-X</th>\n",
       "      <th>tBodyAcc-mad()-Y</th>\n",
       "      <th>tBodyAcc-mad()-Z</th>\n",
       "      <th>tBodyAcc-max()-X</th>\n",
       "      <th>...</th>\n",
       "      <th>fBodyBodyGyroJerkMag-skewness()</th>\n",
       "      <th>fBodyBodyGyroJerkMag-kurtosis()</th>\n",
       "      <th>angle(tBodyAccMean,gravity)</th>\n",
       "      <th>angle(tBodyAccJerkMean),gravityMean)</th>\n",
       "      <th>angle(tBodyGyroMean,gravityMean)</th>\n",
       "      <th>angle(tBodyGyroJerkMean,gravityMean)</th>\n",
       "      <th>angle(X,gravityMean)</th>\n",
       "      <th>angle(Y,gravityMean)</th>\n",
       "      <th>angle(Z,gravityMean)</th>\n",
       "      <th>Activity</th>\n",
       "    </tr>\n",
       "  </thead>\n",
       "  <tbody>\n",
       "    <tr>\n",
       "      <th>count</th>\n",
       "      <td>10299.000000</td>\n",
       "      <td>10299.000000</td>\n",
       "      <td>10299.000000</td>\n",
       "      <td>10299.000000</td>\n",
       "      <td>10299.000000</td>\n",
       "      <td>10299.000000</td>\n",
       "      <td>10299.000000</td>\n",
       "      <td>10299.000000</td>\n",
       "      <td>10299.000000</td>\n",
       "      <td>10299.000000</td>\n",
       "      <td>...</td>\n",
       "      <td>10299.000000</td>\n",
       "      <td>10299.000000</td>\n",
       "      <td>10299.000000</td>\n",
       "      <td>10299.000000</td>\n",
       "      <td>10299.000000</td>\n",
       "      <td>10299.000000</td>\n",
       "      <td>10299.000000</td>\n",
       "      <td>10299.000000</td>\n",
       "      <td>10299.000000</td>\n",
       "      <td>10299.000000</td>\n",
       "    </tr>\n",
       "    <tr>\n",
       "      <th>mean</th>\n",
       "      <td>0.274347</td>\n",
       "      <td>-0.017743</td>\n",
       "      <td>-0.108925</td>\n",
       "      <td>-0.607784</td>\n",
       "      <td>-0.510191</td>\n",
       "      <td>-0.613064</td>\n",
       "      <td>-0.633593</td>\n",
       "      <td>-0.525697</td>\n",
       "      <td>-0.614989</td>\n",
       "      <td>-0.466732</td>\n",
       "      <td>...</td>\n",
       "      <td>-0.298592</td>\n",
       "      <td>-0.617700</td>\n",
       "      <td>0.007705</td>\n",
       "      <td>0.002648</td>\n",
       "      <td>0.017683</td>\n",
       "      <td>-0.009219</td>\n",
       "      <td>-0.496522</td>\n",
       "      <td>0.063255</td>\n",
       "      <td>-0.054284</td>\n",
       "      <td>2.339936</td>\n",
       "    </tr>\n",
       "    <tr>\n",
       "      <th>std</th>\n",
       "      <td>0.067628</td>\n",
       "      <td>0.037128</td>\n",
       "      <td>0.053033</td>\n",
       "      <td>0.438694</td>\n",
       "      <td>0.500240</td>\n",
       "      <td>0.403657</td>\n",
       "      <td>0.413333</td>\n",
       "      <td>0.484201</td>\n",
       "      <td>0.399034</td>\n",
       "      <td>0.538707</td>\n",
       "      <td>...</td>\n",
       "      <td>0.320199</td>\n",
       "      <td>0.308796</td>\n",
       "      <td>0.336591</td>\n",
       "      <td>0.447364</td>\n",
       "      <td>0.616188</td>\n",
       "      <td>0.484770</td>\n",
       "      <td>0.511158</td>\n",
       "      <td>0.305468</td>\n",
       "      <td>0.268898</td>\n",
       "      <td>1.695529</td>\n",
       "    </tr>\n",
       "    <tr>\n",
       "      <th>min</th>\n",
       "      <td>-1.000000</td>\n",
       "      <td>-1.000000</td>\n",
       "      <td>-1.000000</td>\n",
       "      <td>-1.000000</td>\n",
       "      <td>-1.000000</td>\n",
       "      <td>-1.000000</td>\n",
       "      <td>-1.000000</td>\n",
       "      <td>-1.000000</td>\n",
       "      <td>-1.000000</td>\n",
       "      <td>-1.000000</td>\n",
       "      <td>...</td>\n",
       "      <td>-1.000000</td>\n",
       "      <td>-1.000000</td>\n",
       "      <td>-1.000000</td>\n",
       "      <td>-1.000000</td>\n",
       "      <td>-1.000000</td>\n",
       "      <td>-1.000000</td>\n",
       "      <td>-1.000000</td>\n",
       "      <td>-1.000000</td>\n",
       "      <td>-1.000000</td>\n",
       "      <td>0.000000</td>\n",
       "    </tr>\n",
       "    <tr>\n",
       "      <th>25%</th>\n",
       "      <td>0.262625</td>\n",
       "      <td>-0.024902</td>\n",
       "      <td>-0.121019</td>\n",
       "      <td>-0.992360</td>\n",
       "      <td>-0.976990</td>\n",
       "      <td>-0.979137</td>\n",
       "      <td>-0.993293</td>\n",
       "      <td>-0.977017</td>\n",
       "      <td>-0.979064</td>\n",
       "      <td>-0.935788</td>\n",
       "      <td>...</td>\n",
       "      <td>-0.536174</td>\n",
       "      <td>-0.841847</td>\n",
       "      <td>-0.124694</td>\n",
       "      <td>-0.287031</td>\n",
       "      <td>-0.493108</td>\n",
       "      <td>-0.389041</td>\n",
       "      <td>-0.817288</td>\n",
       "      <td>0.002151</td>\n",
       "      <td>-0.131880</td>\n",
       "      <td>1.000000</td>\n",
       "    </tr>\n",
       "    <tr>\n",
       "      <th>50%</th>\n",
       "      <td>0.277174</td>\n",
       "      <td>-0.017162</td>\n",
       "      <td>-0.108596</td>\n",
       "      <td>-0.943030</td>\n",
       "      <td>-0.835032</td>\n",
       "      <td>-0.850773</td>\n",
       "      <td>-0.948244</td>\n",
       "      <td>-0.843670</td>\n",
       "      <td>-0.845068</td>\n",
       "      <td>-0.874825</td>\n",
       "      <td>...</td>\n",
       "      <td>-0.335160</td>\n",
       "      <td>-0.703402</td>\n",
       "      <td>0.008146</td>\n",
       "      <td>0.007668</td>\n",
       "      <td>0.017192</td>\n",
       "      <td>-0.007186</td>\n",
       "      <td>-0.715631</td>\n",
       "      <td>0.182028</td>\n",
       "      <td>-0.003882</td>\n",
       "      <td>2.000000</td>\n",
       "    </tr>\n",
       "    <tr>\n",
       "      <th>75%</th>\n",
       "      <td>0.288354</td>\n",
       "      <td>-0.010625</td>\n",
       "      <td>-0.097589</td>\n",
       "      <td>-0.250293</td>\n",
       "      <td>-0.057336</td>\n",
       "      <td>-0.278737</td>\n",
       "      <td>-0.302033</td>\n",
       "      <td>-0.087405</td>\n",
       "      <td>-0.288149</td>\n",
       "      <td>-0.014641</td>\n",
       "      <td>...</td>\n",
       "      <td>-0.113167</td>\n",
       "      <td>-0.487981</td>\n",
       "      <td>0.149005</td>\n",
       "      <td>0.291490</td>\n",
       "      <td>0.536137</td>\n",
       "      <td>0.365996</td>\n",
       "      <td>-0.521503</td>\n",
       "      <td>0.250790</td>\n",
       "      <td>0.102970</td>\n",
       "      <td>4.000000</td>\n",
       "    </tr>\n",
       "    <tr>\n",
       "      <th>max</th>\n",
       "      <td>1.000000</td>\n",
       "      <td>1.000000</td>\n",
       "      <td>1.000000</td>\n",
       "      <td>1.000000</td>\n",
       "      <td>1.000000</td>\n",
       "      <td>1.000000</td>\n",
       "      <td>1.000000</td>\n",
       "      <td>1.000000</td>\n",
       "      <td>1.000000</td>\n",
       "      <td>1.000000</td>\n",
       "      <td>...</td>\n",
       "      <td>1.000000</td>\n",
       "      <td>1.000000</td>\n",
       "      <td>1.000000</td>\n",
       "      <td>1.000000</td>\n",
       "      <td>1.000000</td>\n",
       "      <td>1.000000</td>\n",
       "      <td>1.000000</td>\n",
       "      <td>1.000000</td>\n",
       "      <td>1.000000</td>\n",
       "      <td>5.000000</td>\n",
       "    </tr>\n",
       "  </tbody>\n",
       "</table>\n",
       "<p>8 rows × 562 columns</p>\n",
       "</div>"
      ],
      "text/plain": [
       "       tBodyAcc-mean()-X  tBodyAcc-mean()-Y  tBodyAcc-mean()-Z  \\\n",
       "count       10299.000000       10299.000000       10299.000000   \n",
       "mean            0.274347          -0.017743          -0.108925   \n",
       "std             0.067628           0.037128           0.053033   \n",
       "min            -1.000000          -1.000000          -1.000000   \n",
       "25%             0.262625          -0.024902          -0.121019   \n",
       "50%             0.277174          -0.017162          -0.108596   \n",
       "75%             0.288354          -0.010625          -0.097589   \n",
       "max             1.000000           1.000000           1.000000   \n",
       "\n",
       "       tBodyAcc-std()-X  tBodyAcc-std()-Y  tBodyAcc-std()-Z  tBodyAcc-mad()-X  \\\n",
       "count      10299.000000      10299.000000      10299.000000      10299.000000   \n",
       "mean          -0.607784         -0.510191         -0.613064         -0.633593   \n",
       "std            0.438694          0.500240          0.403657          0.413333   \n",
       "min           -1.000000         -1.000000         -1.000000         -1.000000   \n",
       "25%           -0.992360         -0.976990         -0.979137         -0.993293   \n",
       "50%           -0.943030         -0.835032         -0.850773         -0.948244   \n",
       "75%           -0.250293         -0.057336         -0.278737         -0.302033   \n",
       "max            1.000000          1.000000          1.000000          1.000000   \n",
       "\n",
       "       tBodyAcc-mad()-Y  tBodyAcc-mad()-Z  tBodyAcc-max()-X  ...  \\\n",
       "count      10299.000000      10299.000000      10299.000000  ...   \n",
       "mean          -0.525697         -0.614989         -0.466732  ...   \n",
       "std            0.484201          0.399034          0.538707  ...   \n",
       "min           -1.000000         -1.000000         -1.000000  ...   \n",
       "25%           -0.977017         -0.979064         -0.935788  ...   \n",
       "50%           -0.843670         -0.845068         -0.874825  ...   \n",
       "75%           -0.087405         -0.288149         -0.014641  ...   \n",
       "max            1.000000          1.000000          1.000000  ...   \n",
       "\n",
       "       fBodyBodyGyroJerkMag-skewness()  fBodyBodyGyroJerkMag-kurtosis()  \\\n",
       "count                     10299.000000                     10299.000000   \n",
       "mean                         -0.298592                        -0.617700   \n",
       "std                           0.320199                         0.308796   \n",
       "min                          -1.000000                        -1.000000   \n",
       "25%                          -0.536174                        -0.841847   \n",
       "50%                          -0.335160                        -0.703402   \n",
       "75%                          -0.113167                        -0.487981   \n",
       "max                           1.000000                         1.000000   \n",
       "\n",
       "       angle(tBodyAccMean,gravity)  angle(tBodyAccJerkMean),gravityMean)  \\\n",
       "count                 10299.000000                          10299.000000   \n",
       "mean                      0.007705                              0.002648   \n",
       "std                       0.336591                              0.447364   \n",
       "min                      -1.000000                             -1.000000   \n",
       "25%                      -0.124694                             -0.287031   \n",
       "50%                       0.008146                              0.007668   \n",
       "75%                       0.149005                              0.291490   \n",
       "max                       1.000000                              1.000000   \n",
       "\n",
       "       angle(tBodyGyroMean,gravityMean)  angle(tBodyGyroJerkMean,gravityMean)  \\\n",
       "count                      10299.000000                          10299.000000   \n",
       "mean                           0.017683                             -0.009219   \n",
       "std                            0.616188                              0.484770   \n",
       "min                           -1.000000                             -1.000000   \n",
       "25%                           -0.493108                             -0.389041   \n",
       "50%                            0.017192                             -0.007186   \n",
       "75%                            0.536137                              0.365996   \n",
       "max                            1.000000                              1.000000   \n",
       "\n",
       "       angle(X,gravityMean)  angle(Y,gravityMean)  angle(Z,gravityMean)  \\\n",
       "count          10299.000000          10299.000000          10299.000000   \n",
       "mean              -0.496522              0.063255             -0.054284   \n",
       "std                0.511158              0.305468              0.268898   \n",
       "min               -1.000000             -1.000000             -1.000000   \n",
       "25%               -0.817288              0.002151             -0.131880   \n",
       "50%               -0.715631              0.182028             -0.003882   \n",
       "75%               -0.521503              0.250790              0.102970   \n",
       "max                1.000000              1.000000              1.000000   \n",
       "\n",
       "           Activity  \n",
       "count  10299.000000  \n",
       "mean       2.339936  \n",
       "std        1.695529  \n",
       "min        0.000000  \n",
       "25%        1.000000  \n",
       "50%        2.000000  \n",
       "75%        4.000000  \n",
       "max        5.000000  \n",
       "\n",
       "[8 rows x 562 columns]"
      ]
     },
     "execution_count": 10,
     "metadata": {},
     "output_type": "execute_result"
    }
   ],
   "source": [
    "data.describe()"
   ]
  },
  {
   "cell_type": "code",
   "execution_count": 11,
   "metadata": {
    "tags": []
   },
   "outputs": [
    {
     "name": "stdout",
     "output_type": "stream",
     "text": [
      "<class 'pandas.core.frame.DataFrame'>\n",
      "RangeIndex: 10299 entries, 0 to 10298\n",
      "Columns: 562 entries, tBodyAcc-mean()-X to Activity\n",
      "dtypes: float64(561), int64(1)\n",
      "memory usage: 44.2 MB\n"
     ]
    }
   ],
   "source": [
    "data.info()"
   ]
  },
  {
   "cell_type": "code",
   "execution_count": 12,
   "metadata": {
    "tags": []
   },
   "outputs": [],
   "source": [
    "data = data.iloc[:4000]"
   ]
  },
  {
   "cell_type": "code",
   "execution_count": 13,
   "metadata": {
    "tags": []
   },
   "outputs": [
    {
     "data": {
      "text/plain": [
       "(4000, 562)"
      ]
     },
     "execution_count": 13,
     "metadata": {},
     "output_type": "execute_result"
    }
   ],
   "source": [
    "data.shape"
   ]
  },
  {
   "cell_type": "markdown",
   "metadata": {},
   "source": [
    "**NOTE**: We are about to create training and test sets from `data`. On those datasets, we are going to run grid searches over many choices of parameters. This can take some time. In order to shorten the grid search time, feel free to downsample `data` and create `X_train, X_test, y_train, y_test` from the downsampled dataset.\n",
    "\n",
    "Now split the data into train and test data sets. A stratified split was not used here. If there are issues with any of the error metrics on the test set, it can be a good idea to start model fitting over using a stratified split. Boosting is a pretty powerful model, though, so it may not be necessary in this case.\n"
   ]
  },
  {
   "cell_type": "code",
   "execution_count": 14,
   "metadata": {
    "tags": []
   },
   "outputs": [],
   "source": [
    "from sklearn.model_selection import train_test_split\n",
    "\n",
    "# Alternatively, we could stratify the categories in the split, as was done previously\n",
    "feature_columns = [x for x in data.columns if x != 'Activity']\n",
    "\n",
    "X_train, X_test, y_train, y_test = train_test_split(data[feature_columns], data['Activity'],\n",
    "                 test_size=0.3, random_state=42)\n"
   ]
  },
  {
   "cell_type": "code",
   "execution_count": 15,
   "metadata": {
    "tags": []
   },
   "outputs": [
    {
     "data": {
      "text/plain": [
       "((2800, 561), (2800,), (1200, 561), (1200,))"
      ]
     },
     "execution_count": 15,
     "metadata": {},
     "output_type": "execute_result"
    }
   ],
   "source": [
    "X_train.shape, y_train.shape, X_test.shape, y_test.shape\n",
    "### END SOLUTION"
   ]
  },
  {
   "cell_type": "code",
   "execution_count": 16,
   "metadata": {
    "tags": []
   },
   "outputs": [
    {
     "data": {
      "text/plain": [
       "<bound method DataFrame.info of       tBodyAcc-mean()-X  tBodyAcc-mean()-Y  tBodyAcc-mean()-Z  \\\n",
       "3215           0.206508          -0.039241          -0.101176   \n",
       "3126           0.276276          -0.018741          -0.100759   \n",
       "697            0.275434          -0.030908          -0.120722   \n",
       "3613           0.280212          -0.009867          -0.107093   \n",
       "2374           0.316057          -0.003699          -0.258795   \n",
       "...                 ...                ...                ...   \n",
       "1130           0.257380          -0.115213          -0.186153   \n",
       "1294           0.301401          -0.005687          -0.093504   \n",
       "860            0.280475          -0.018976          -0.113756   \n",
       "3507           0.281083          -0.013856          -0.114890   \n",
       "3174           0.238147          -0.012122          -0.132434   \n",
       "\n",
       "      tBodyAcc-std()-X  tBodyAcc-std()-Y  tBodyAcc-std()-Z  tBodyAcc-mad()-X  \\\n",
       "3215         -0.399147         -0.188371         -0.033506         -0.444653   \n",
       "3126         -0.996082         -0.994469         -0.981772         -0.996717   \n",
       "697          -0.989864         -0.807848         -0.890871         -0.991318   \n",
       "3613         -0.998098         -0.975032         -0.976572         -0.998732   \n",
       "2374         -0.269575          0.302254          0.772267         -0.302969   \n",
       "...                ...               ...               ...               ...   \n",
       "1130         -0.076126          0.146512         -0.375180         -0.188595   \n",
       "1294         -0.029313          0.202177         -0.346313         -0.086518   \n",
       "860          -0.994825         -0.985314         -0.965857         -0.995170   \n",
       "3507         -0.989299         -0.973738         -0.955450         -0.988964   \n",
       "3174         -0.377790         -0.379369         -0.056556         -0.372175   \n",
       "\n",
       "      tBodyAcc-mad()-Y  tBodyAcc-mad()-Z  tBodyAcc-max()-X  ...  \\\n",
       "3215         -0.224285         -0.105721         -0.250516  ...   \n",
       "3126         -0.993907         -0.980107         -0.935294  ...   \n",
       "697          -0.838340         -0.899343         -0.928835  ...   \n",
       "3613         -0.974574         -0.977402         -0.939657  ...   \n",
       "2374          0.348458          0.629220         -0.104537  ...   \n",
       "...                ...               ...               ...  ...   \n",
       "1130          0.145216         -0.352805          0.229528  ...   \n",
       "1294          0.172274         -0.358566          0.446875  ...   \n",
       "860          -0.984285         -0.963293         -0.937503  ...   \n",
       "3507         -0.970588         -0.948153         -0.934996  ...   \n",
       "3174         -0.413726         -0.018758         -0.396446  ...   \n",
       "\n",
       "      fBodyBodyGyroJerkMag-meanFreq()  fBodyBodyGyroJerkMag-skewness()  \\\n",
       "3215                         0.242476                        -0.579556   \n",
       "3126                         0.546675                        -0.844439   \n",
       "697                         -0.409059                        -0.078106   \n",
       "3613                         0.225041                        -0.512340   \n",
       "2374                         0.270318                        -0.523593   \n",
       "...                               ...                              ...   \n",
       "1130                         0.029390                         0.501995   \n",
       "1294                         0.096177                         0.284249   \n",
       "860                          0.539885                        -0.889671   \n",
       "3507                         0.065957                        -0.499443   \n",
       "3174                         0.293285                        -0.239194   \n",
       "\n",
       "      fBodyBodyGyroJerkMag-kurtosis()  angle(tBodyAccMean,gravity)  \\\n",
       "3215                        -0.884702                     0.686720   \n",
       "3126                        -0.978993                    -0.024821   \n",
       "697                         -0.475698                     0.084578   \n",
       "3613                        -0.828512                     0.064333   \n",
       "2374                        -0.854463                    -0.361388   \n",
       "...                               ...                          ...   \n",
       "1130                         0.312694                    -0.052471   \n",
       "1294                         0.025051                    -0.177432   \n",
       "860                         -0.984051                    -0.079515   \n",
       "3507                        -0.816832                    -0.041423   \n",
       "3174                        -0.591597                     0.378301   \n",
       "\n",
       "      angle(tBodyAccJerkMean),gravityMean)  angle(tBodyGyroMean,gravityMean)  \\\n",
       "3215                              0.223221                         -0.926984   \n",
       "3126                             -0.137431                          0.804577   \n",
       "697                              -0.004275                          0.827524   \n",
       "3613                             -0.029549                          0.649491   \n",
       "2374                             -0.492013                         -0.958119   \n",
       "...                                    ...                               ...   \n",
       "1130                              0.142626                          0.923714   \n",
       "1294                              0.210472                          0.662307   \n",
       "860                               0.014291                         -0.290347   \n",
       "3507                             -0.181186                         -0.735270   \n",
       "3174                              0.495738                         -0.758423   \n",
       "\n",
       "      angle(tBodyGyroJerkMean,gravityMean)  angle(X,gravityMean)  \\\n",
       "3215                             -0.076869             -0.602311   \n",
       "3126                             -0.093918             -0.849944   \n",
       "697                               0.472996             -0.834716   \n",
       "3613                             -0.870583             -0.735001   \n",
       "2374                              0.198842             -0.408970   \n",
       "...                                    ...                   ...   \n",
       "1130                             -0.369051             -0.782793   \n",
       "1294                             -0.526045             -0.666004   \n",
       "860                               0.602344             -0.839693   \n",
       "3507                             -0.512073              0.379242   \n",
       "3174                             -0.037446             -0.806507   \n",
       "\n",
       "      angle(Y,gravityMean)  angle(Z,gravityMean)  \n",
       "3215             -0.032139              0.269419  \n",
       "3126              0.139513             -0.082217  \n",
       "697               0.105684             -0.102485  \n",
       "3613              0.266226             -0.056588  \n",
       "2374              0.309351              0.369407  \n",
       "...                    ...                   ...  \n",
       "1130              0.243406             -0.021199  \n",
       "1294              0.328412              0.032616  \n",
       "860               0.081388             -0.098270  \n",
       "3507             -0.531602             -0.441496  \n",
       "3174              0.026578              0.138329  \n",
       "\n",
       "[2800 rows x 561 columns]>"
      ]
     },
     "execution_count": 16,
     "metadata": {},
     "output_type": "execute_result"
    }
   ],
   "source": [
    "X_train.info"
   ]
  },
  {
   "cell_type": "markdown",
   "metadata": {},
   "source": [
    "<h2 id=\"Q3\">Question 3</h2>\n",
    "\n",
    "*   Fit gradient boosted tree models with all parameters set to their defaults with the following tree numbers (`n_estimators = [15, 25, 50, 100, 200, 400]`) and evaluate the accuracy on the test data for each of these models.\n",
    "*   Plot the accuracy as a function of estimator number.\n",
    "\n",
    "*Note:* there is no out-of-bag error for boosted models. And the `warm_flag=True` setting has a bug in the gradient boosted model, so don't use it. Simply create the model inside the `for` loop and set the number of estimators at this time. This will make the fitting take a little longer. Additionally, boosting models tend to take longer to fit than bagged ones because the decision stumps must be fit successively.\n"
   ]
  },
  {
   "cell_type": "code",
   "execution_count": 17,
   "metadata": {
    "tags": []
   },
   "outputs": [
    {
     "name": "stdout",
     "output_type": "stream",
     "text": [
      "Fitting model with 15 trees\n",
      "Fitting model with 25 trees\n",
      "Fitting model with 50 trees\n",
      "Fitting model with 100 trees\n",
      "Fitting model with 200 trees\n",
      "Fitting model with 400 trees\n"
     ]
    },
    {
     "data": {
      "text/html": [
       "<div>\n",
       "<style scoped>\n",
       "    .dataframe tbody tr th:only-of-type {\n",
       "        vertical-align: middle;\n",
       "    }\n",
       "\n",
       "    .dataframe tbody tr th {\n",
       "        vertical-align: top;\n",
       "    }\n",
       "\n",
       "    .dataframe thead th {\n",
       "        text-align: right;\n",
       "    }\n",
       "</style>\n",
       "<table border=\"1\" class=\"dataframe\">\n",
       "  <thead>\n",
       "    <tr style=\"text-align: right;\">\n",
       "      <th></th>\n",
       "      <th>error</th>\n",
       "    </tr>\n",
       "    <tr>\n",
       "      <th>n_trees</th>\n",
       "      <th></th>\n",
       "    </tr>\n",
       "  </thead>\n",
       "  <tbody>\n",
       "    <tr>\n",
       "      <th>15.0</th>\n",
       "      <td>0.039167</td>\n",
       "    </tr>\n",
       "    <tr>\n",
       "      <th>25.0</th>\n",
       "      <td>0.023333</td>\n",
       "    </tr>\n",
       "    <tr>\n",
       "      <th>50.0</th>\n",
       "      <td>0.011667</td>\n",
       "    </tr>\n",
       "    <tr>\n",
       "      <th>100.0</th>\n",
       "      <td>0.008333</td>\n",
       "    </tr>\n",
       "    <tr>\n",
       "      <th>200.0</th>\n",
       "      <td>0.006667</td>\n",
       "    </tr>\n",
       "    <tr>\n",
       "      <th>400.0</th>\n",
       "      <td>0.008333</td>\n",
       "    </tr>\n",
       "  </tbody>\n",
       "</table>\n",
       "</div>"
      ],
      "text/plain": [
       "            error\n",
       "n_trees          \n",
       "15.0     0.039167\n",
       "25.0     0.023333\n",
       "50.0     0.011667\n",
       "100.0    0.008333\n",
       "200.0    0.006667\n",
       "400.0    0.008333"
      ]
     },
     "execution_count": 17,
     "metadata": {},
     "output_type": "execute_result"
    }
   ],
   "source": [
    "### BEGIN SOLUTION\n",
    "from sklearn.ensemble import GradientBoostingClassifier\n",
    "from sklearn.metrics import accuracy_score\n",
    "\n",
    "error_list = list()\n",
    "\n",
    "# Iterate through various possibilities for number of trees\n",
    "tree_list = [15, 25, 50, 100, 200, 400]\n",
    "for n_trees in tree_list:\n",
    "    \n",
    "    # Initialize the gradient boost classifier\n",
    "    GBC = GradientBoostingClassifier(n_estimators=n_trees, random_state=42)\n",
    "\n",
    "    # Fit the model\n",
    "    print(f'Fitting model with {n_trees} trees')\n",
    "    GBC.fit(X_train.values, y_train.values)\n",
    "    y_pred = GBC.predict(X_test)\n",
    "\n",
    "    # Get the error\n",
    "    error = 1.0 - accuracy_score(y_test, y_pred)\n",
    "    \n",
    "    # Store it\n",
    "    error_list.append(pd.Series({'n_trees': n_trees, 'error': error}))\n",
    "\n",
    "error_df = pd.concat(error_list, axis=1).T.set_index('n_trees')\n",
    "\n",
    "error_df"
   ]
  },
  {
   "cell_type": "markdown",
   "metadata": {},
   "source": [
    "Now plot the result.\n"
   ]
  },
  {
   "cell_type": "code",
   "execution_count": 19,
   "metadata": {
    "tags": []
   },
   "outputs": [
    {
     "data": {
      "image/png": "[encoded data removed]",
      "text/plain": [
       "<Figure size 1200x800 with 1 Axes>"
      ]
     },
     "metadata": {},
     "output_type": "display_data"
    }
   ],
   "source": [
    "sns.set_context('talk')\n",
    "sns.set_style('white')\n",
    "\n",
    "# Create the plot\n",
    "ax = error_df.plot(marker='o', figsize=(12, 8), linewidth=5)\n",
    "\n",
    "# Set parameters\n",
    "ax.set(xlabel='Number of Trees', ylabel='Error')\n",
    "ax.set_xlim(0, max(error_df.index)*1.1);\n",
    "### END SOLUTION"
   ]
  },
  {
   "cell_type": "markdown",
   "metadata": {},
   "source": [
    "<h2 id=\"Q4\">Question 4</h2>\n",
    "\n",
    "*   Using a grid search with cross-validation, fit a new gradient boosted classifier with the same list of estimators as question 3. Also try varying the learning rates (0.1, 0.01, 0.001, etc.), the subsampling value (1.0 or 0.5), and the number of maximum features (1, 2, etc.).\n",
    "*   Examine the parameters of the best fit model.\n",
    "*   Calculate relevant error metrics on this model and examine the confusion matrix.\n"
   ]
  },
  {
   "cell_type": "code",
   "execution_count": null,
   "metadata": {
    "tags": []
   },
   "outputs": [],
   "source": [
    "### BEGIN SOLUTION\n",
    "warnings.warn(\"once\")\n",
    "from sklearn.model_selection import GridSearchCV\n",
    "\n",
    "# The parameters to be fit\n",
    "param_grid = {'n_estimators': tree_list,\n",
    "              'learning_rate': [0.1, 0.01, 0.001, 0.0001],\n",
    "              'subsample': [1.0, 0.5],\n",
    "              'max_features': [1, 2, 3, 4]}\n",
    "\n",
    "# The grid search object\n",
    "GV_GBC = GridSearchCV(GradientBoostingClassifier(random_state=42), \n",
    "                      param_grid=param_grid, \n",
    "                      scoring='accuracy',\n",
    "                      n_jobs=-1)\n",
    "\n",
    "# Do the grid search\n",
    "GV_GBC = GV_GBC.fit(X_train, y_train)"
   ]
  },
  {
   "cell_type": "code",
   "execution_count": 23,
   "metadata": {},
   "outputs": [
    {
     "ename": "AttributeError",
     "evalue": "'GridSearchCV' object has no attribute 'best_estimator_'",
     "output_type": "error",
     "traceback": [
      "\u001b[0;31m---------------------------------------------------------------------------\u001b[0m",
      "\u001b[0;31mAttributeError\u001b[0m                            Traceback (most recent call last)",
      "\u001b[0;32m/tmp/ipykernel_1989/3689965407.py\u001b[0m in \u001b[0;36m<module>\u001b[0;34m\u001b[0m\n\u001b[1;32m      1\u001b[0m \u001b[0;31m# The best model\u001b[0m\u001b[0;34m\u001b[0m\u001b[0;34m\u001b[0m\u001b[0;34m\u001b[0m\u001b[0m\n\u001b[0;32m----> 2\u001b[0;31m \u001b[0mGV_GBC\u001b[0m\u001b[0;34m.\u001b[0m\u001b[0mbest_estimator_\u001b[0m\u001b[0;34m\u001b[0m\u001b[0;34m\u001b[0m\u001b[0m\n\u001b[0m",
      "\u001b[0;31mAttributeError\u001b[0m: 'GridSearchCV' object has no attribute 'best_estimator_'"
     ]
    }
   ],
   "source": [
    "# The best model\n",
    "GV_GBC.best_estimator_"
   ]
  },
  {
   "cell_type": "markdown",
   "metadata": {},
   "source": [
    "The error metrics. Classification report is particularly convenient for multi-class cases.\n"
   ]
  },
  {
   "cell_type": "code",
   "execution_count": null,
   "metadata": {},
   "outputs": [],
   "source": [
    "from sklearn.metrics import classification_report, confusion_matrix\n",
    "import seaborn as sns\n",
    "import matplotlib.pyplot as plt\n",
    "y_pred = GV_GBC.predict(X_test)\n",
    "print(classification_report(y_pred, y_test))"
   ]
  },
  {
   "cell_type": "markdown",
   "metadata": {},
   "source": [
    "The confusion matrix. Note that the gradient boosted model has a little trouble distinguishing between activity class 1 and 2.\n"
   ]
  },
  {
   "cell_type": "code",
   "execution_count": null,
   "metadata": {},
   "outputs": [],
   "source": [
    "cm = confusion_matrix(y_test, y_pred)\n",
    "sns.heatmap(cm, annot=True, fmt='g', cmap='Blues')\n",
    "plt.show()"
   ]
  },
  {
   "cell_type": "markdown",
   "metadata": {},
   "source": [
    "<h2 id=\"Q5\">Question 5</h2>\n",
    "\n",
    "*   Create an AdaBoost model and fit it using grid search, much like question 4. Try a range of estimators between 100 and 200.\n",
    "*   Compare the errors from AdaBoost to those from the GradientBoostedClassifier.\n"
   ]
  },
  {
   "cell_type": "code",
   "execution_count": null,
   "metadata": {},
   "outputs": [],
   "source": [
    "### BEGIN SOLUTION\n",
    "from sklearn.ensemble import AdaBoostClassifier\n",
    "from sklearn.tree import DecisionTreeClassifier\n",
    "\n",
    "ABC = AdaBoostClassifier(DecisionTreeClassifier(max_depth=1))\n",
    "\n",
    "param_grid = {'n_estimators': [100, 150, 200],\n",
    "              'learning_rate': [0.01, 0.001]}\n",
    "\n",
    "GV_ABC = GridSearchCV(ABC,\n",
    "                      param_grid=param_grid, \n",
    "                      scoring='accuracy',\n",
    "                      n_jobs=-1)\n",
    "\n",
    "GV_ABC = GV_ABC.fit(X_train, y_train)"
   ]
  },
  {
   "cell_type": "markdown",
   "metadata": {},
   "source": [
    "The best model.\n"
   ]
  },
  {
   "cell_type": "code",
   "execution_count": null,
   "metadata": {},
   "outputs": [],
   "source": [
    "# The best model\n",
    "GV_ABC.best_estimator_"
   ]
  },
  {
   "cell_type": "markdown",
   "metadata": {},
   "source": [
    "The error metrics. Note that the issues with class 1 and 2 appear to have become more problematic. Also note other issues for classes 3 - 5. AdaBoost is very sensitive to outliers, so that could be the problem here.\n"
   ]
  },
  {
   "cell_type": "code",
   "execution_count": null,
   "metadata": {},
   "outputs": [],
   "source": [
    "y_pred = GV_ABC.predict(X_test)\n",
    "print(classification_report(y_pred, y_test))"
   ]
  },
  {
   "cell_type": "code",
   "execution_count": null,
   "metadata": {},
   "outputs": [],
   "source": [
    "cm = confusion_matrix(y_test, y_pred)\n",
    "sns.heatmap(cm, annot=True, fmt='g', cmap='Blues')\n",
    "plt.show()"
   ]
  },
  {
   "cell_type": "markdown",
   "metadata": {},
   "source": [
    "<h2 id=\"Q6\">Question 6</h2>\n",
    "\n",
    "*   Fit a logistic regression model with regularization.\n",
    "*   Using `VotingClassifier`, fit the logistic regression model along with either the GratientBoostedClassifier or the AdaBoost model (or both) from questions 4 and 5.\n",
    "*   Determine the error as before and compare the results to the appropriate gradient boosted model(s).\n",
    "*   Plot the confusion matrix for the best model created in this set of exercises.\n"
   ]
  },
  {
   "cell_type": "code",
   "execution_count": null,
   "metadata": {},
   "outputs": [],
   "source": [
    "### BEGIN SOLUTION\n",
    "from sklearn.linear_model import LogisticRegression\n",
    "\n",
    "# L2 regularized logistic regression\n",
    "LR_L2 = LogisticRegression(penalty='l2', max_iter=500, solver='saga').fit(X_train, y_train)"
   ]
  },
  {
   "cell_type": "markdown",
   "metadata": {},
   "source": [
    "Check the errors and confusion matrix for the logistic regression model.\n"
   ]
  },
  {
   "cell_type": "code",
   "execution_count": null,
   "metadata": {},
   "outputs": [],
   "source": [
    "y_pred = LR_L2.predict(X_test)\n",
    "print(classification_report(y_pred, y_test))"
   ]
  },
  {
   "cell_type": "code",
   "execution_count": null,
   "metadata": {},
   "outputs": [],
   "source": [
    "cm = confusion_matrix(y_test, y_pred)\n",
    "sns.heatmap(cm, annot=True, fmt='g', cmap='Blues')\n",
    "plt.show()"
   ]
  },
  {
   "cell_type": "markdown",
   "metadata": {},
   "source": [
    "And now the stacked model.\n"
   ]
  },
  {
   "cell_type": "code",
   "execution_count": null,
   "metadata": {},
   "outputs": [],
   "source": [
    "from sklearn.ensemble import VotingClassifier\n",
    "\n",
    "# The combined model--logistic regression and gradient boosted trees\n",
    "estimators = [('LR_L2', LR_L2), ('GBC', GV_GBC)]\n",
    "\n",
    "# Though it wasn't done here, it is often desirable to train \n",
    "# this model using an additional hold-out data set and/or with cross validation\n",
    "VC = VotingClassifier(estimators, voting='soft')\n",
    "VC = VC.fit(X_train, y_train)"
   ]
  },
  {
   "cell_type": "markdown",
   "metadata": {},
   "source": [
    "Performance for the voting classifier should improve relative to either logistic regression or gradient boosted trees alone. However, the fact that logistic regression does almost as well as gradient boosted trees is an important reminder to try the simplest model first. In some cases, its performance will be good enough.\n"
   ]
  },
  {
   "cell_type": "code",
   "execution_count": null,
   "metadata": {},
   "outputs": [],
   "source": [
    "y_pred = VC.predict(X_test)\n",
    "print(classification_report(y_test, y_pred))"
   ]
  },
  {
   "cell_type": "code",
   "execution_count": null,
   "metadata": {},
   "outputs": [],
   "source": [
    "cm = confusion_matrix(y_test, y_pred)\n",
    "sns.heatmap(cm, annot=True, fmt='g', cmap='Blues')\n",
    "plt.show()\n",
    "#sns.set_context('talk')\n",
    "#cm = confusion_matrix(y_test, y_pred)\n",
    "#ax = sns.heatmap(cm, annot=True, fmt='d')\n",
    "### END SOLUTION"
   ]
  },
  {
   "cell_type": "markdown",
   "metadata": {},
   "source": [
    "***\n",
    "\n",
    "### Thank you for completing this lab!\n",
    "\n",
    "## Author\n",
    "\n",
    "<a href=\"https://www.linkedin.com/in/joseph-s-50398b136/?utm_medium=Exinfluencer&utm_source=Exinfluencer&utm_content=000026UJ&utm_term=10006555&utm_id=NA-SkillsNetwork-Channel-SkillsNetworkCoursesIBMDeveloperSkillsNetworkML0101ENSkillsNetwork20718538-2021-01-01\" target=\"_blank\">Joseph Santarcangelo</a>\n",
    "\n",
    "### Other Contributors\n",
    "\n",
    "<a href=\"https://www.linkedin.com/in/richard-ye/?utm_medium=Exinfluencer&utm_source=Exinfluencer&utm_content=000026UJ&utm_term=10006555&utm_id=NA-SkillsNetwork-Channel-SkillsNetworkCoursesIBMDeveloperSkillsNetworkML0101ENSkillsNetwork20718538-2021-01-01\" target=\"_blank\">Richard Ye</a>\n",
    "\n",
    "## <h3 align=\"center\"> Machine Learning Foundation (C) 2020 IBM Corporation </h3>\n",
    "\n",
    "<!--## Change Log\n",
    "\n",
    "| Date (YYYY-MM-DD) | Version | Changed By | Change Description |\n",
    "| ----------------- | ------- | ---------- | ------------------ |\n",
    "| 2022-03-23        | 0.1     | Joseph Santarcangelo | Created Lab Template |\n",
    "| 2022-05-03        | 0.2     | Richard Ye | Added in estimated time, objectives and table of contents |--!>\n",
    "\n",
    "\n"
   ]
  }
 ],
 "metadata": {
  "kernelspec": {
   "display_name": "Python",
   "language": "python",
   "name": "conda-env-python-py"
  },
  "language_info": {
   "codemirror_mode": {
    "name": "ipython",
    "version": 3
   },
   "file_extension": ".py",
   "mimetype": "text/x-python",
   "name": "python",
   "nbconvert_exporter": "python",
   "pygments_lexer": "ipython3",
   "version": "3.7.12"
  },
  "prev_pub_hash": "378c93e39f612565aa61bc7f8e9e16033bc6ba5ff72cfbd981e0b7ec9474df3f"
 },
 "nbformat": 4,
 "nbformat_minor": 4
}
